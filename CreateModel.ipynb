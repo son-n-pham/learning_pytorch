{
 "cells": [
  {
   "cell_type": "markdown",
   "id": "8246b47c",
   "metadata": {},
   "source": [
    "<details><summary style=\"display:list-item; font-size:16px; color:blue;\">Jupyter Help</summary>\n",
    "    \n",
    "Having trouble testing your work? Double-check that you have followed the steps below to write, run, save, and test your code!\n",
    "    \n",
    "[Click here for a walkthrough GIF of the steps below](https://static-assets.codecademy.com/Courses/ds-python/jupyter-help.gif)\n",
    "\n",
    "Run all initial cells to import libraries and datasets. Then follow these steps for each question:\n",
    "    \n",
    "1. Add your solution to the cell with `## YOUR SOLUTION HERE ## `.\n",
    "2. Run the cell by selecting the `Run` button or the `Shift`+`Enter` keys.\n",
    "3. Save your work by selecting the `Save` button, the `command`+`s` keys (Mac), or `control`+`s` keys (Windows).\n",
    "4. Select the `Test Work` button at the bottom left to test your work.\n",
    "\n",
    "![Screenshot of the buttons at the top of a Jupyter Notebook. The Run and Save buttons are highlighted](https://static-assets.codecademy.com/Paths/ds-python/jupyter-buttons.png)"
   ]
  },
  {
   "cell_type": "markdown",
   "id": "d6a205f4",
   "metadata": {},
   "source": [
    "**Setup**\n",
    "\n",
    "Run the cell below to import NumPy, pandas, and PyTorch."
   ]
  },
  {
   "cell_type": "code",
   "execution_count": 1,
   "id": "c3ce63ef",
   "metadata": {
    "tags": [
     "setup"
    ]
   },
   "outputs": [],
   "source": [
    "import numpy as np\n",
    "import pandas as pd\n",
    "import torch\n",
    "import torch.nn as nn"
   ]
  },
  {
   "cell_type": "markdown",
   "id": "079e0e0c",
   "metadata": {},
   "source": [
    "#### Checkpoint 1/3"
   ]
  },
  {
   "cell_type": "markdown",
   "id": "7a8c74d0",
   "metadata": {},
   "source": [
    "Use `nn.Sequential` to create a neural network model with\n",
    "\n",
    "- **input layer**: three nodes\n",
    "- **hidden layer**: eight nodes, with ReLU activation\n",
    "- **output layer**: one node\n",
    "\n",
    "Assign your network to the variable `model`.\n",
    "\n",
    "Because `nn.Sequential` will randomly initialize weights and biases, we've set a **random seed** in every Checkpoint code cell. This is generally a good practice that means the initial weights and biases are the same every time we run the same code. Do not edit the seed value `42` as that is needed for our testing code.\n",
    "\n",
    "Don't forget to run the cell and save the notebook before selecting `Test Work`! Open the `Jupyter Help` toggle at the top of the notebook for more details."
   ]
  },
  {
   "cell_type": "code",
   "execution_count": 2,
   "id": "b318baec",
   "metadata": {
    "deletable": false,
    "tags": [
     "cp1"
    ]
   },
   "outputs": [
    {
     "data": {
      "text/plain": [
       "Sequential(\n",
       "  (0): Linear(in_features=3, out_features=8, bias=True)\n",
       "  (1): ReLU()\n",
       "  (2): Linear(in_features=8, out_features=1, bias=True)\n",
       ")"
      ]
     },
     "execution_count": 2,
     "metadata": {},
     "output_type": "execute_result"
    }
   ],
   "source": [
    "# set a random seed - do not modify\n",
    "torch.manual_seed(42)\n",
    "\n",
    "## YOUR SOLUTION HERE ##\n",
    "model = nn.Sequential(\n",
    "    nn.Linear(3, 8),\n",
    "    nn.ReLU(),\n",
    "    nn.Linear(8,1)\n",
    ")\n",
    "\n",
    "# show model details\n",
    "model"
   ]
  },
  {
   "cell_type": "markdown",
   "id": "18a3af19",
   "metadata": {},
   "source": [
    "<details><summary style=\"display:list-item; font-size:16px; color:blue;\">Breakdown of this output</summary>\n",
    "    \n",
    "The output lists the sequential structure of the network. For example, the line\n",
    "    \n",
    "`(0): Linear(in_features=3, out_features=8, bias=True)`\n",
    "    \n",
    "indicates that we begin with a linear calculation from three nodes (the `in_features`) to eight nodes (the `out_features`). The line `bias=True` indicates that we are including a bias term (even though we aren't explicitly creating a bias node)."
   ]
  },
  {
   "cell_type": "markdown",
   "id": "6a172e5e",
   "metadata": {},
   "source": [
    "#### Checkpoint 2/3"
   ]
  },
  {
   "cell_type": "markdown",
   "id": "ab80893d",
   "metadata": {},
   "source": [
    "Re-create the model from the prior checkpoint. This time, add a second hidden layer with\n",
    "\n",
    "- four nodes\n",
    "- `nn.Sigmoid` as the activation function\n",
    "\n",
    "Don't forget to run the cell and save the notebook before selecting `Test Work`! Open the `Jupyter Help` toggle at the top of the notebook for more details."
   ]
  },
  {
   "cell_type": "code",
   "execution_count": 5,
   "id": "e73ed471",
   "metadata": {
    "deletable": false,
    "tags": [
     "cp2"
    ]
   },
   "outputs": [
    {
     "data": {
      "text/plain": [
       "Sequential(\n",
       "  (0): Linear(in_features=3, out_features=8, bias=True)\n",
       "  (1): ReLU()\n",
       "  (2): Linear(in_features=8, out_features=4, bias=True)\n",
       "  (3): Sigmoid()\n",
       "  (4): Linear(in_features=4, out_features=1, bias=True)\n",
       ")"
      ]
     },
     "execution_count": 5,
     "metadata": {},
     "output_type": "execute_result"
    }
   ],
   "source": [
    "# set a random seed - do not modify\n",
    "torch.manual_seed(42)\n",
    "\n",
    "## YOUR SOLUTION HERE ##\n",
    "model = nn.Sequential(\n",
    "    nn.Linear(3,8),\n",
    "    nn.ReLU(),\n",
    "    nn.Linear(8, 4),\n",
    "    nn.Sigmoid(),\n",
    "    nn.Linear(4,1)\n",
    ")\n",
    "\n",
    "# show model details\n",
    "model"
   ]
  },
  {
   "cell_type": "markdown",
   "id": "8d481799",
   "metadata": {},
   "source": [
    "#### Dataset Import"
   ]
  },
  {
   "cell_type": "markdown",
   "id": "f06783bb",
   "metadata": {},
   "source": [
    "Let's create a model and feedforward all of our real Streeteasy data.\n",
    "\n",
    "First, run the next code cell to import the Streeteasy data and convert the `size_sqft`, `bedrooms`, and `building_age_yrs` columns into a PyTorch tensor.\n",
    "\n",
    "We will use these three columns to try to predict rent!"
   ]
  },
  {
   "cell_type": "code",
   "execution_count": 6,
   "id": "09847ffa",
   "metadata": {
    "tags": [
     "dataset"
    ]
   },
   "outputs": [
    {
     "data": {
      "text/plain": [
       "tensor([[4.8000e+02, 0.0000e+00, 1.7000e+01],\n",
       "        [2.0000e+03, 2.0000e+00, 9.6000e+01],\n",
       "        [1.0000e+03, 3.0000e+00, 1.0600e+02],\n",
       "        [9.1600e+02, 1.0000e+00, 2.9000e+01],\n",
       "        [9.7500e+02, 1.0000e+00, 3.1000e+01]])"
      ]
     },
     "execution_count": 6,
     "metadata": {},
     "output_type": "execute_result"
    }
   ],
   "source": [
    "# load pandas DataFrame\n",
    "apartments_df = pd.read_csv(\"streeteasy.csv\")\n",
    "\n",
    "# create a numpy array of the numeric columnsma\n",
    "apartments_numpy = apartments_df[['size_sqft', 'bedrooms', 'building_age_yrs']].values\n",
    "\n",
    "# convert to an input tensor\n",
    "X = torch.tensor(apartments_numpy,dtype=torch.float32)\n",
    "\n",
    "# preview the first five apartments\n",
    "X[:5]"
   ]
  },
  {
   "cell_type": "markdown",
   "id": "f2aa8b98",
   "metadata": {},
   "source": [
    "**Checkpoint 3/3**\n",
    "\n",
    "Now that we have our data stored in `X`, let's create a neural network.\n",
    "\n",
    "In the Checkpoint 3 code cell, we've already created a neural network model. It follows a fairly common neural network architecture, where each hidden layer is halved in size as we feed forward to the output.\n",
    "\n",
    "Run the feedforward process of `model` on `X`. Assign the result to the variable `predicted_rent`.\n",
    "\n",
    "We've added code to preview the first five predicted rents. What is the predicted rent for the first apartment in the dataset?\n",
    "\n",
    "<details><summary style=\"display:list-item; font-size:16px; color:blue;\">Our answer</summary>\n",
    "The first element of the output is -6.9229, so that is the prediction for the first apartment. The second apartment's predicted rent is -29.8163.</details>\n",
    "\n",
    "Of course, these initial predictions will not be accurate at all. Without training, the feedforward is just applying randomly generated weights and biases! We'll train these on the actual rent values in a later exercise.\n",
    "\n",
    "Don't forget to run the cell and save the notebook before selecting `Test Work`! Open the `Jupyter Help` toggle at the top of the notebook for more details."
   ]
  },
  {
   "cell_type": "code",
   "execution_count": 7,
   "id": "4ddf801b",
   "metadata": {
    "deletable": false,
    "tags": [
     "cp3"
    ]
   },
   "outputs": [
    {
     "data": {
      "text/plain": [
       "tensor([[ -6.9229],\n",
       "        [-29.8163],\n",
       "        [-16.0748],\n",
       "        [-13.2427],\n",
       "        [-14.1096]], grad_fn=<SliceBackward0>)"
      ]
     },
     "execution_count": 7,
     "metadata": {},
     "output_type": "execute_result"
    }
   ],
   "source": [
    "# set a random seed - do not modify\n",
    "torch.manual_seed(42)\n",
    "\n",
    "# define the neural network\n",
    "model = nn.Sequential(\n",
    "    nn.Linear(3,16),\n",
    "    nn.ReLU(),\n",
    "    nn.Linear(16,8),\n",
    "    nn.ReLU(),\n",
    "    nn.Linear(8,4),\n",
    "    nn.ReLU(),\n",
    "    nn.Linear(4,1)\n",
    ")\n",
    "\n",
    "## YOUR SOLUTION HERE ##\n",
    "predicted_rent = model(X)\n",
    "\n",
    "# show output\n",
    "predicted_rent[:5]"
   ]
  },
  {
   "cell_type": "code",
   "execution_count": null,
   "id": "af7a8629",
   "metadata": {},
   "outputs": [],
   "source": []
  }
 ],
 "metadata": {
  "kernelspec": {
   "display_name": "Python 3 (ipykernel)",
   "language": "python",
   "name": "python3"
  },
  "language_info": {
   "codemirror_mode": {
    "name": "ipython",
    "version": 3
   },
   "file_extension": ".py",
   "mimetype": "text/x-python",
   "name": "python",
   "nbconvert_exporter": "python",
   "pygments_lexer": "ipython3",
   "version": "3.10.12"
  }
 },
 "nbformat": 4,
 "nbformat_minor": 5
}
