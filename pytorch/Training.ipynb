{
 "cells": [
  {
   "cell_type": "markdown",
   "metadata": {},
   "source": [
    "**Setup**\n",
    "\n",
    "Run the following cell to import NumPy, pandas, and PyTorch."
   ]
  },
  {
   "cell_type": "code",
   "execution_count": 1,
   "metadata": {
    "slideshow": {
     "slide_type": ""
    },
    "tags": []
   },
   "outputs": [],
   "source": [
    "import numpy as np\n",
    "import pandas as pd\n",
    "\n",
    "import torch\n",
    "import torch.nn as nn\n",
    "import torch.optim as optim"
   ]
  },
  {
   "cell_type": "markdown",
   "metadata": {
    "slideshow": {
     "slide_type": ""
    },
    "tags": []
   },
   "source": [
    "**Import Data**\n",
    "\n",
    "Run the code cell to import the dataset and select numerical features. In this exercise, we'll start using a larger set of numerical features:\n",
    "\n",
    "- **bedrooms**: The number of bedrooms in the apartment\n",
    "- **bathrooms**: The number of bathrooms in the apartment\n",
    "- **size_sqft**: The size of the apartment in square feet  \n",
    "- **min_to_subway**: The number of minutes to the closest subway\n",
    "- **floor**: The building floor of the apartment\n",
    "- **building_age_yrs**: The age of the building in years\n",
    "- **no_fee**: Binary indicator that specifies whether the rental has a broker's fee (1) or not (0)\n",
    "- **has_roofdeck**: Binary indicator that specifies whether the rental has a roofdeck (1) or not (0)\n",
    "- **has_washer_dryer**: Binary indicator that specifies whether the rental has a washer/dryer units (1) or not (0)\n",
    "- **has_doorman**: Binary indicator that specifies whether the rental has a doorman (1) or not (0)\n",
    "- **has_elevator**: Binary indicator that specifies whether the rental has an elevator (1) or not (0)\n",
    "- **has_dishwasher**: Binary indicator that specifies whether the rental has a dishwasher (1) or not (0)\n",
    "- **has_patio**: Binary indicator that specifies whether the rental has a patio (1) or not (0)\n",
    "- **has_gym**: Binary indicator that specifies whether the rental has a gym (1) or not (0)\n",
    " boroughs\n",
    "\n",
    "\n"
   ]
  },
  {
   "cell_type": "code",
   "execution_count": 2,
   "metadata": {
    "slideshow": {
     "slide_type": ""
    },
    "tags": []
   },
   "outputs": [],
   "source": [
    "apartments_df = pd.read_csv(\"streeteasy.csv\")\n",
    "\n",
    "numerical_features = ['bedrooms', 'bathrooms', 'size_sqft', 'min_to_subway', 'floor', 'building_age_yrs',\n",
    "                      'no_fee', 'has_roofdeck', 'has_washer_dryer', 'has_doorman', 'has_elevator', 'has_dishwasher',\n",
    "                      'has_patio', 'has_gym']\n",
    "\n",
    "# create tensor of input features\n",
    "X = torch.tensor(apartments_df[numerical_features].values, dtype=torch.float)\n",
    "# create tensor of targets\n",
    "y = torch.tensor(apartments_df['rent'].values, dtype=torch.float).view(-1,1)"
   ]
  },
  {
   "cell_type": "markdown",
   "metadata": {},
   "source": [
    "**Checkpoint 1/3**\n",
    "\n",
    "We've created a neural network, defined a loss function, and initialized an optimizer already.\n",
    "\n",
    "Note on the network: since we now have `14` input features, we've increased the size of our hidden layers to try to capture that complexity. But we are still following a common neural network architecture where the first hidden layer has twice as many nodes (128) as the next (64).\n",
    "\n",
    "We've also tried to write a training loop to train our neural network for 500 epochs, but we've made a mistake. As a result, our loss values are extremely high!\n",
    "\n",
    "Can you spot our error and fix the training loop?\n",
    "\n",
    "Don’t forget to run and save the cell before selecting `Test Work`! Open the `Jupyter Help` toggle at the top of the notebook for more details."
   ]
  },
  {
   "cell_type": "code",
   "execution_count": 3,
   "metadata": {
    "deletable": false,
    "slideshow": {
     "slide_type": ""
    },
    "tags": [
     "cp1"
    ]
   },
   "outputs": [
    {
     "name": "stdout",
     "output_type": "stream",
     "text": [
      "Epoch [100/500], MSE Loss: 3136163.0\n",
      "Epoch [200/500], MSE Loss: 3019612.25\n",
      "Epoch [300/500], MSE Loss: 2938490.25\n",
      "Epoch [400/500], MSE Loss: 2867499.5\n",
      "Epoch [500/500], MSE Loss: 2807188.5\n"
     ]
    }
   ],
   "source": [
    "# set a random seed - do not modify\n",
    "torch.manual_seed(42)\n",
    "\n",
    "# Define the model using nn.Sequential\n",
    "model = nn.Sequential(\n",
    "    nn.Linear(14, 128),\n",
    "    nn.ReLU(),\n",
    "    nn.Linear(128, 64),\n",
    "    nn.ReLU(),\n",
    "    nn.Linear(64, 1)\n",
    ")\n",
    "\n",
    "# MSE loss function + optimizer\n",
    "loss = nn.MSELoss()\n",
    "optimizer = optim.Adam(model.parameters(), lr=0.001)\n",
    "\n",
    "## YOUR SOLUTION HERE ##\n",
    "num_epochs = 500\n",
    "for epoch in range(num_epochs):\n",
    "    predictions = model(X) \n",
    "    MSE = loss(predictions, y)\n",
    "    MSE.backward()\n",
    "    optimizer.step()\n",
    "    optimizer.zero_grad() # Adding this line to fix the issue\n",
    "    \n",
    "    ## DO NOT MODIFY ##\n",
    "    # keep track of the loss during training\n",
    "    if (epoch + 1) % 100 == 0:\n",
    "        print(f'Epoch [{epoch + 1}/{num_epochs}], MSE Loss: {MSE.item()}')"
   ]
  },
  {
   "cell_type": "markdown",
   "metadata": {},
   "source": [
    "**Checkpoint 2/3**\n",
    "\n",
    "Using the same model set up, we've written another training loop. This time we've made a different mistake, and the loss values don't seem to be changing from epoch to epoch.\n",
    "\n",
    "Can you fix our mistake?\n",
    "\n",
    "Don’t forget to run and save the cell before selecting `Test Work`! Open the `Jupyter Help` toggle at the top of the notebook for more details."
   ]
  },
  {
   "cell_type": "code",
   "execution_count": 6,
   "metadata": {
    "deletable": false,
    "slideshow": {
     "slide_type": ""
    },
    "tags": [
     "cp2"
    ]
   },
   "outputs": [
    {
     "name": "stdout",
     "output_type": "stream",
     "text": [
      "Epoch [100/500], MSE Loss: 3136162.75\n",
      "Epoch [200/500], MSE Loss: 3019612.0\n",
      "Epoch [300/500], MSE Loss: 2938490.0\n",
      "Epoch [400/500], MSE Loss: 2867499.5\n",
      "Epoch [500/500], MSE Loss: 2807188.5\n"
     ]
    }
   ],
   "source": [
    "# set a random seed - do not modify\n",
    "torch.manual_seed(42)\n",
    "\n",
    "# Define the model using nn.Sequential\n",
    "model = nn.Sequential(\n",
    "    nn.Linear(14, 128),\n",
    "    nn.ReLU(),\n",
    "    nn.Linear(128, 64),\n",
    "    nn.ReLU(),\n",
    "    nn.Linear(64, 1)\n",
    ")\n",
    "\n",
    "# MSE loss function + optimizer\n",
    "loss = nn.MSELoss()\n",
    "optimizer = optim.Adam(model.parameters(), lr=0.001)\n",
    "\n",
    "## YOUR SOLUTION HERE ##\n",
    "num_epochs = 500\n",
    "for epoch in range(num_epochs):\n",
    "    predictions = model(X) \n",
    "    MSE = loss(predictions, y) \n",
    "    MSE.backward() # Adding this line to fix the issue\n",
    "    optimizer.step() \n",
    "    optimizer.zero_grad()\n",
    "    \n",
    "    ## DO NOT MODIFY ##\n",
    "    # keep track of the loss during training\n",
    "    if (epoch + 1) % 100 == 0:\n",
    "        print(f'Epoch [{epoch + 1}/{num_epochs}], MSE Loss: {MSE.item()}')"
   ]
  },
  {
   "cell_type": "markdown",
   "metadata": {},
   "source": [
    "**Checkpoint 3/3**\n",
    "\n",
    "We've already defined a neural network, loss function, and optimizer. \n",
    "\n",
    "Fill in a training loop that will train the neural network `model` for 1000 epochs.\n",
    "\n",
    "Do the additional epochs improve the model performance?\n",
    "\n",
    "Don’t forget to run and save the cell before selecting `Test Work`! Open the `Jupyter Help` toggle at the top of the notebook for more details."
   ]
  },
  {
   "cell_type": "code",
   "execution_count": 7,
   "metadata": {
    "deletable": false,
    "slideshow": {
     "slide_type": ""
    },
    "tags": [
     "cp3",
     "cp1"
    ]
   },
   "outputs": [
    {
     "name": "stdout",
     "output_type": "stream",
     "text": [
      "Epoch [100/1000], MSE Loss: 3136162.75\n",
      "Epoch [200/1000], MSE Loss: 3019612.0\n",
      "Epoch [300/1000], MSE Loss: 2938490.0\n",
      "Epoch [400/1000], MSE Loss: 2867499.5\n",
      "Epoch [500/1000], MSE Loss: 2807188.5\n",
      "Epoch [600/1000], MSE Loss: 2757318.5\n",
      "Epoch [700/1000], MSE Loss: 2716579.75\n",
      "Epoch [800/1000], MSE Loss: 2683151.5\n",
      "Epoch [900/1000], MSE Loss: 2656409.5\n",
      "Epoch [1000/1000], MSE Loss: 2633397.0\n"
     ]
    }
   ],
   "source": [
    "# set a random seed - do not modify\n",
    "torch.manual_seed(42)\n",
    "\n",
    "# Define the model using nn.Sequential\n",
    "model = nn.Sequential(\n",
    "    nn.Linear(14, 128),\n",
    "    nn.ReLU(),\n",
    "    nn.Linear(128, 64),\n",
    "    nn.ReLU(),\n",
    "    nn.Linear(64, 1)\n",
    ")\n",
    "\n",
    "# MSE loss function + optimizer\n",
    "loss = nn.MSELoss()\n",
    "optimizer = optim.Adam(model.parameters(), lr=0.001)\n",
    "\n",
    "## YOUR SOLUTION HERE ##\n",
    "num_epochs = 1000 \n",
    "for epoch in range(num_epochs):\n",
    "    predictions = model(X) # Added line to predict the result from X and with the defined model\n",
    "    MSE = loss(predictions, y) # Added line to calculate MSE\n",
    "    MSE.backward() # Added line to apply back propagation to MSE\n",
    "    optimizer.step() # Added line to do the back propagation and update model\n",
    "    optimizer.zero_grad() # Added line to reset the gradient\n",
    "    \n",
    "    ## DO NOT MODIFY ##\n",
    "    # keep track of the loss during training\n",
    "    if (epoch + 1) % 100 == 0:\n",
    "        print(f'Epoch [{epoch + 1}/{num_epochs}], MSE Loss: {MSE.item()}')"
   ]
  },
  {
   "cell_type": "code",
   "execution_count": null,
   "metadata": {},
   "outputs": [],
   "source": []
  }
 ],
 "metadata": {
  "kernelspec": {
   "display_name": "Python 3 (ipykernel)",
   "language": "python",
   "name": "python3"
  },
  "language_info": {
   "codemirror_mode": {
    "name": "ipython",
    "version": 3
   },
   "file_extension": ".py",
   "mimetype": "text/x-python",
   "name": "python",
   "nbconvert_exporter": "python",
   "pygments_lexer": "ipython3",
   "version": "3.9.18"
  }
 },
 "nbformat": 4,
 "nbformat_minor": 4
}
