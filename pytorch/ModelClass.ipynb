{
 "cells": [
  {
   "cell_type": "markdown",
   "metadata": {},
   "source": [
    "<details><summary style=\"display:list-item; font-size:16px; color:blue;\">Jupyter Help</summary>\n",
    "    \n",
    "Having trouble testing your work? Double-check that you have followed the steps below to write, run, save, and test your code!\n",
    "    \n",
    "[Click here for a walkthrough GIF of the steps below](https://static-assets.codecademy.com/Courses/ds-python/jupyter-help.gif)\n",
    "\n",
    "Run all initial cells to import libraries and datasets. Then follow these steps for each question:\n",
    "    \n",
    "1. Add your solution to the cell with `## YOUR SOLUTION HERE ## `.\n",
    "2. Run the cell by selecting the `Run` button or the `Shift`+`Enter` keys.\n",
    "3. Save your work by selecting the `Save` button, the `command`+`s` keys (Mac), or `control`+`s` keys (Windows).\n",
    "4. Select the `Test Work` button at the bottom left to test your work.\n",
    "\n",
    "![Screenshot of the buttons at the top of a Jupyter Notebook. The Run and Save buttons are highlighted](https://static-assets.codecademy.com/Paths/ds-python/jupyter-buttons.png)"
   ]
  },
  {
   "cell_type": "markdown",
   "metadata": {},
   "source": [
    "**Setup**\n",
    "\n",
    "Run the following cell to import NumPy, pandas, and PyTorch."
   ]
  },
  {
   "cell_type": "code",
   "execution_count": 1,
   "metadata": {
    "slideshow": {
     "slide_type": ""
    },
    "tags": []
   },
   "outputs": [],
   "source": [
    "import numpy as np\n",
    "import pandas as pd\n",
    "\n",
    "import torch\n",
    "import torch.nn as nn"
   ]
  },
  {
   "cell_type": "markdown",
   "metadata": {
    "slideshow": {
     "slide_type": ""
    },
    "tags": []
   },
   "source": [
    "**Checkpoint 1/3: Create a Neural Network in PyTorch Using OOP**\n",
    "\n",
    "In the Checkpoint 1 code cell we've included code to\n",
    "\n",
    "1. create the `NN_Regression` class from the narrative\n",
    "2. create an input tensor of apartment data\n",
    "3. feedforward to make predictions\n",
    "\n",
    "Run the cell. The output from this network should be the same as the Sequential network from the last exercise! Once again, this network is completely untrained, so it isn't surprising that the \"predictions\" are very bad.\n",
    "\n",
    "Note: even though you haven't written any code in this cell, still save and select `Test Work` to move on!\n",
    "\n",
    "Don't forget to run the cell and save the notebook before selecting `Test Work`! Open the `Jupyter Help` toggle at the top of the notebook for more details."
   ]
  },
  {
   "cell_type": "code",
   "execution_count": 2,
   "metadata": {
    "deletable": false,
    "slideshow": {
     "slide_type": ""
    },
    "tags": [
     "cp1"
    ]
   },
   "outputs": [
    {
     "data": {
      "text/plain": [
       "tensor([[ -6.9229],\n",
       "        [-29.8163],\n",
       "        [-16.0748],\n",
       "        [-13.2427],\n",
       "        [-14.1096]], grad_fn=<SliceBackward0>)"
      ]
     },
     "execution_count": 2,
     "metadata": {},
     "output_type": "execute_result"
    }
   ],
   "source": [
    "# set a random seed - do not modify\n",
    "torch.manual_seed(42)\n",
    "\n",
    "## create the NN_Regression class\n",
    "class NN_Regression(nn.Module):\n",
    "    def __init__(self):\n",
    "        super(NN_Regression, self).__init__()\n",
    "        # initialize layers\n",
    "        self.layer1 = nn.Linear(3, 16)\n",
    "        self.layer2 = nn.Linear(16, 8) \n",
    "        self.layer3 = nn.Linear(8, 4)\n",
    "        self.layer4 = nn.Linear(4, 1) \n",
    "        \n",
    "        # initialize activation functions\n",
    "        self.relu = nn.ReLU()\n",
    "\n",
    "    def forward(self, x):\n",
    "        # define the forward pass\n",
    "        x = self.layer1(x)\n",
    "        x = self.relu(x)\n",
    "        x = self.layer2(x)\n",
    "        x = self.relu(x)\n",
    "        x = self.layer3(x)\n",
    "        x = self.relu(x)\n",
    "        x = self.layer4(x)\n",
    "        return x\n",
    "\n",
    "## create an instance of NN_Regression\n",
    "model = NN_Regression()\n",
    "\n",
    "## create an input tensor\n",
    "\n",
    "apartments_df = pd.read_csv(\"streeteasy.csv\")\n",
    "numerical_features = ['size_sqft', 'bedrooms', 'building_age_yrs']\n",
    "X = torch.tensor(apartments_df[numerical_features].values, dtype=torch.float)\n",
    "\n",
    "## feedforward to predict rent\n",
    "predicted_rents = model(X)\n",
    "\n",
    "## show output\n",
    "predicted_rents[:5]"
   ]
  },
  {
   "cell_type": "markdown",
   "metadata": {
    "slideshow": {
     "slide_type": ""
    },
    "tags": []
   },
   "source": [
    "**Checkpoint 2/3**\n",
    "\n",
    "We've created a new neural network class called `OneHidden` with:\n",
    "\n",
    "- a two node input layer\n",
    "- a four node hidden layer\n",
    "- a one node output layer\n",
    "\n",
    "This class does not yet have any instructions for feedforward. Try running the cell without making any changes to the code. Without any linear layers or activation functions, the input tensor should be output as is.\n",
    "\n",
    "In the `forward` method, define a feedforward that takes the input `x` and feeds it through:\n",
    "\n",
    "1. `self.layer1`\n",
    "2. `self.relu`\n",
    "3. `self.layer2`\n",
    "\n",
    "Run the cell again to see the new predictions!\n",
    "\n",
    "Don't forget to run the cell and save the notebook before selecting `Test Work`! Open the `Jupyter Help` toggle at the top of the notebook for more details."
   ]
  },
  {
   "cell_type": "code",
   "execution_count": 4,
   "metadata": {
    "deletable": false,
    "slideshow": {
     "slide_type": ""
    },
    "tags": [
     "cp2"
    ]
   },
   "outputs": [
    {
     "data": {
      "text/plain": [
       "tensor([2.4422], grad_fn=<AddBackward0>)"
      ]
     },
     "execution_count": 4,
     "metadata": {},
     "output_type": "execute_result"
    }
   ],
   "source": [
    "# set a random seed - do not modify\n",
    "torch.manual_seed(42)\n",
    "\n",
    "## create the NN_Regression class\n",
    "class OneHidden(nn.Module):\n",
    "    def __init__(self):\n",
    "        super(OneHidden, self).__init__()\n",
    "        # initialize layers\n",
    "        self.layer1 = nn.Linear(2, 4)\n",
    "        self.layer2 = nn.Linear(4, 1)\n",
    "        \n",
    "        # initialize activation functions\n",
    "        self.relu = nn.ReLU()\n",
    "\n",
    "    def forward(self, x):\n",
    "        ## YOUR SOLUTION HERE ##\n",
    "        x = self.layer1(x)\n",
    "        x = self.relu(x)\n",
    "        x = self.layer2(x)\n",
    "        return x\n",
    "\n",
    "## do not modify below this comment\n",
    "\n",
    "# create an instance\n",
    "model = OneHidden()\n",
    "\n",
    "# create an input tensor\n",
    "X = torch.tensor([3,4.5], dtype=torch.float32)\n",
    "\n",
    "# run feedforward\n",
    "predictions = model(X)\n",
    "\n",
    "# show output\n",
    "predictions"
   ]
  },
  {
   "cell_type": "markdown",
   "metadata": {
    "slideshow": {
     "slide_type": ""
    },
    "tags": []
   },
   "source": [
    "**Checkpoint 3 / 3: Make a prediction**\n",
    "\n",
    "Let's look at one way defining classes can be helpful.\n",
    "\n",
    "We've included the same `OneHidden` class from Checkpoint 2 in the Checkpoint 3 code cell below. But we've updated the line\n",
    "\n",
    "```py\n",
    "def __init(self):\n",
    "```\n",
    "\n",
    "to have another input:\n",
    "\n",
    "```py\n",
    "def __init__(self,numHiddenNodes):\n",
    "```\n",
    "\n",
    "This input, `numHiddenNodes`, determines the number of hidden nodes in the hidden layer. For example, within the `__init__` method, the line\n",
    "\n",
    "```py\n",
    "self.layer1 = nn.Linear(2, numHiddenNodes)\n",
    "```\n",
    "\n",
    "uses `numHiddenNodes` to define the connections between the input and hidden layer.\n",
    "\n",
    "Below `## YOUR SOLUTION HERE ##`, add the input `4` to the line `model = OneHidden` and run the cell. The output should be the same as for Checkpoint 2, where we hand coded the value `4` for the hidden layer.\n",
    "\n",
    "Now, change the number of nodes in the hidden layer to `10` and run the cell again. How does the output change?\n",
    "\n",
    "Save the notebook after running with `10` hidden layer nodes and test your work.\n",
    "\n",
    "Don't forget to run the cell and save the notebook before selecting `Test Work`! Open the `Jupyter Help` toggle at the top of the notebook for more details."
   ]
  },
  {
   "cell_type": "code",
   "execution_count": 7,
   "metadata": {
    "deletable": false,
    "slideshow": {
     "slide_type": ""
    },
    "tags": [
     "cp3"
    ]
   },
   "outputs": [
    {
     "data": {
      "text/plain": [
       "tensor([1.2633], grad_fn=<AddBackward0>)"
      ]
     },
     "execution_count": 7,
     "metadata": {},
     "output_type": "execute_result"
    }
   ],
   "source": [
    "# set a random seed - do not modify\n",
    "torch.manual_seed(42)\n",
    "\n",
    "## create the NN_Regression class\n",
    "class OneHidden(nn.Module):\n",
    "    # add a new numHiddenNodes input\n",
    "    def __init__(self, numHiddenNodes):\n",
    "        super(OneHidden, self).__init__()\n",
    "        # initialize layers\n",
    "        # 3 input features, variable output features\n",
    "        self.layer1 = nn.Linear(2, numHiddenNodes) \n",
    "        # variable input features, 8 output features\n",
    "        self.layer2 = nn.Linear(numHiddenNodes, 1) \n",
    "        \n",
    "        # initialize activation functions\n",
    "        self.relu = nn.ReLU()\n",
    "\n",
    "    def forward(self, x):\n",
    "        ## YOUR SOLUTION HERE ##\n",
    "        x = self.layer1(x)\n",
    "        x = self.relu(x)\n",
    "        x = self.layer2(x)\n",
    "        return x\n",
    "\n",
    "## YOUR SOLUTION HERE ##\n",
    "model = OneHidden(10)\n",
    "\n",
    "## do not modify below this comment\n",
    "\n",
    "# create an input tensor\n",
    "input_tensor = torch.tensor([3,4.5], dtype=torch.float32)\n",
    "\n",
    "# run feedforward\n",
    "predictions = model(input_tensor)\n",
    "\n",
    "# show output\n",
    "predictions"
   ]
  },
  {
   "cell_type": "markdown",
   "metadata": {},
   "source": [
    "Pretty cool, right? This is just scratching the surface of the power of defining our own neural network classes. But in the next exercise, we'll return to the problem of actually improving our predictions by training sequential neural networks."
   ]
  }
 ],
 "metadata": {
  "kernelspec": {
   "display_name": "Python 3 (ipykernel)",
   "language": "python",
   "name": "python3"
  },
  "language_info": {
   "codemirror_mode": {
    "name": "ipython",
    "version": 3
   },
   "file_extension": ".py",
   "mimetype": "text/x-python",
   "name": "python",
   "nbconvert_exporter": "python",
   "pygments_lexer": "ipython3",
   "version": "3.10.12"
  }
 },
 "nbformat": 4,
 "nbformat_minor": 4
}
