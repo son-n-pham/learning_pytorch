{
 "cells": [
  {
   "cell_type": "markdown",
   "metadata": {},
   "source": [
    "<details><summary style=\"display:list-item; font-size:16px; color:blue;\">Jupyter Help</summary>\n",
    "    \n",
    "Having trouble testing your work? Double-check that you have followed the steps below to write, run, save, and test your code!\n",
    "    \n",
    "[Click here for a walkthrough GIF of the steps below](https://static-assets.codecademy.com/Courses/ds-python/jupyter-help.gif)\n",
    "\n",
    "Run all initial cells to import libraries and datasets. Then follow these steps for each question:\n",
    "    \n",
    "1. Add your solution to the cell with `## YOUR SOLUTION HERE ## `.\n",
    "2. Run the cell by selecting the `Run` button or the `Shift`+`Enter` keys.\n",
    "3. Save your work by selecting the `Save` button, the `command`+`s` keys (Mac), or `control`+`s` keys (Windows).\n",
    "4. Select the `Test Work` button at the bottom left to test your work.\n",
    "\n",
    "![Screenshot of the buttons at the top of a Jupyter Notebook. The Run and Save buttons are highlighted](https://static-assets.codecademy.com/Paths/ds-python/jupyter-buttons.png)"
   ]
  },
  {
   "cell_type": "markdown",
   "metadata": {},
   "source": [
    "**Import Libraries**\n",
    "\n",
    "Run the cell below to import NumPy, pandas, and PyTorch."
   ]
  },
  {
   "cell_type": "code",
   "execution_count": 1,
   "metadata": {
    "slideshow": {
     "slide_type": ""
    },
    "tags": [
     "setup"
    ]
   },
   "outputs": [],
   "source": [
    "import numpy as np\n",
    "import pandas as pd\n",
    "\n",
    "import torch\n",
    "import torch.nn as nn"
   ]
  },
  {
   "cell_type": "markdown",
   "metadata": {
    "slideshow": {
     "slide_type": ""
    },
    "tags": []
   },
   "source": [
    "**Checkpoint 1/3**\n",
    "\n",
    "Import PyTorch's optimizers using the alias `optim`.\n",
    "\n",
    "Don't forget to run the cell and save the notebook before selecting `Test Work`! Open the `Jupyter Help` toggle at the top of the notebook for more details."
   ]
  },
  {
   "cell_type": "code",
   "execution_count": 2,
   "metadata": {
    "deletable": false,
    "slideshow": {
     "slide_type": ""
    },
    "tags": [
     "cp1"
    ]
   },
   "outputs": [],
   "source": [
    "## YOUR SOLUTION HERE ##\n",
    "import torch.optim as optim"
   ]
  },
  {
   "cell_type": "markdown",
   "metadata": {},
   "source": [
    "**Checkpoint 2/3**\n",
    "\n",
    "We've defined a sequential neural network `model` already in the Checkpoint 2 code cell.\n",
    "\n",
    "Initialize the Adam optimizer using `model`'s parameters and a **learning rate** set to `0.001`. \n",
    "\n",
    "Save the result to the variable `optimizer`.\n",
    "\n",
    "Don't forget to run the cell and save the notebook before selecting `Test Work`! Open the `Jupyter Help` toggle at the top of the notebook for more details."
   ]
  },
  {
   "cell_type": "code",
   "execution_count": 4,
   "metadata": {
    "deletable": false,
    "slideshow": {
     "slide_type": ""
    },
    "tags": [
     "cp2"
    ]
   },
   "outputs": [],
   "source": [
    "# set a random seed - do not modify\n",
    "torch.manual_seed(42) \n",
    "\n",
    "# create neural network\n",
    "model = nn.Sequential(\n",
    "    nn.Linear(3,16),\n",
    "    nn.ReLU(),\n",
    "    nn.Linear(16,8),\n",
    "    nn.ReLU(),\n",
    "    nn.Linear(8,4),\n",
    "    nn.ReLU(),\n",
    "    nn.Linear(4,1)\n",
    ")\n",
    "\n",
    "## YOUR SOLUTION HERE ##\n",
    "optimizer = optim.Adam(model.parameters(), lr=0.001)"
   ]
  },
  {
   "cell_type": "markdown",
   "metadata": {},
   "source": [
    "**Checkpoint 3/3**\n",
    "\n",
    "We've already defined a neural network, run a forward pass with some of our apartment data, and computed the loss from that forward pass.\n",
    "\n",
    "At `## YOUR SOLUTION HERE ##`, add code to\n",
    "\n",
    "1. initialize `Adam` in the variable `optimizer` with a learning rate of `.001`\n",
    "2. use the loss we've already assigned to `MSE` to perform the backwards pass\n",
    "3. use `optimizer` to update the weights and biases\n",
    "\n",
    "Run the notebook again. Did our optimization decrease the loss at all? \n",
    "\n",
    "After testing your work with the learning rate of `.001`, try some other learning rates to see how that impacts the optimization.\n",
    "\n",
    "Don't forget to run the cell and save the notebook before selecting `Test Work`! Open the `Jupyter Help` toggle at the top of the notebook for more details."
   ]
  },
  {
   "cell_type": "code",
   "execution_count": 5,
   "metadata": {
    "deletable": false,
    "slideshow": {
     "slide_type": ""
    },
    "tags": [
     "cp3"
    ]
   },
   "outputs": [
    {
     "name": "stdout",
     "output_type": "stream",
     "text": [
      "Initial loss is tensor(29213900., grad_fn=<MseLossBackward0>)\n",
      "After optimization, loss is tensor(29205546., grad_fn=<MseLossBackward0>)\n"
     ]
    }
   ],
   "source": [
    "# set a random seed - do not modify\n",
    "torch.manual_seed(42)\n",
    "\n",
    "# create neural network\n",
    "model = nn.Sequential(\n",
    "    nn.Linear(3,16),\n",
    "    nn.ReLU(),\n",
    "    nn.Linear(16,8),\n",
    "    nn.ReLU(),\n",
    "    nn.Linear(8,4),\n",
    "    nn.ReLU(),\n",
    "    nn.Linear(4,1)\n",
    ")\n",
    "\n",
    "# import the data\n",
    "apartments_df = pd.read_csv(\"streeteasy.csv\")\n",
    "numerical_features = ['bedrooms', 'bathrooms', 'size_sqft']\n",
    "X = torch.tensor(apartments_df[numerical_features].values, dtype=torch.float)\n",
    "y = torch.tensor(apartments_df['rent'].values,dtype=torch.float)\n",
    "\n",
    "# forward pass\n",
    "predictions = model(X)\n",
    "\n",
    "# define the loss function and compute loss\n",
    "loss = nn.MSELoss()\n",
    "MSE = loss(predictions,y)\n",
    "print('Initial loss is ' + str(MSE))\n",
    "\n",
    "## YOUR SOLUTION HERE ##\n",
    "optimizer = optim.Adam(model.parameters(), lr=0.001)\n",
    "MSE.backward()\n",
    "optimizer.step()\n",
    "\n",
    "# feed the data through the updated model and compute the new loss\n",
    "predictions = model(X)\n",
    "MSE = loss(predictions,y)\n",
    "print('After optimization, loss is ' + str(MSE))"
   ]
  },
  {
   "cell_type": "code",
   "execution_count": null,
   "metadata": {},
   "outputs": [],
   "source": []
  }
 ],
 "metadata": {
  "kernelspec": {
   "display_name": "Python 3 (ipykernel)",
   "language": "python",
   "name": "python3"
  },
  "language_info": {
   "codemirror_mode": {
    "name": "ipython",
    "version": 3
   },
   "file_extension": ".py",
   "mimetype": "text/x-python",
   "name": "python",
   "nbconvert_exporter": "python",
   "pygments_lexer": "ipython3",
   "version": "3.10.12"
  }
 },
 "nbformat": 4,
 "nbformat_minor": 4
}
